{
 "cells": [
  {
   "cell_type": "code",
   "execution_count": 1,
   "metadata": {},
   "outputs": [
    {
     "data": {
      "text/plain": [
       "\"\\n# training dataset for cats\\nfnames = ['cat.{}.jpg'.format(i) for i in range(1000)]\\nfor fname in fnames:\\n    src = os.path.join(original_dataset_dir, fname)\\n    dst = os.path.join(train_cats_dir, fname)\\n    shutil.copyfile(src, dst)\\n\\n#validation dataset for cats\\nfnames = ['cat.{}.jpg'.format(i) for i in range(1000, 1500)]\\nfor fname in fnames:\\n    src = os.path.join(original_dataset_dir, fname)\\n    dst = os.path.join(validation_cats_dir, fname)\\n    shutil.copyfile(src, dst)\\n\\n#testing dataset for cats\\nfnames = ['cat.{}.jpg'.format(i) for i in range(1500, 2000)]\\nfor fname in fnames:\\n    src = os.path.join(original_dataset_dir, fname)\\n    dst = os.path.join(test_cats_dir, fname)\\n    shutil.copyfile(src, dst)\\n\\n# dogs training \\nfnames = ['dog.{}.jpg'.format(i) for i in range(1000)]\\nfor fname in fnames:\\n    src = os.path.join(original_dataset_dir, fname)\\n    dst = os.path.join(train_dogs_dir, fname)\\n    shutil.copyfile(src, dst)\\n    \\n# dogs validation \\nfnames = ['dog.{}.jpg'.format(i) for i in range(1000, 1500)]\\nfor fname in fnames:\\n    src = os.path.join(original_dataset_dir, fname)\\n    dst = os.path.join(validation_dogs_dir, fname)\\n    shutil.copyfile(src, dst)\\n    \\n# dogs test \\nfnames = ['dog.{}.jpg'.format(i) for i in range(1500, 2000)]\\nfor fname in fnames:\\n    src = os.path.join(original_dataset_dir, fname)\\n    dst = os.path.join(test_dogs_dir, fname)\\n    shutil.copyfile(src, dst)\\n\""
      ]
     },
     "execution_count": 1,
     "metadata": {},
     "output_type": "execute_result"
    }
   ],
   "source": [
    "#Copying images to training, validation, and test directories\n",
    "import os, shutil\n",
    "\n",
    "original_dataset_dir = '/home/shahir/Projects/DeepLearning/train'\n",
    "base_dir = '/home/shahir/Projects/DeepLearning/cats_and_dogs_small'\n",
    "#os.mkdir(base_dir)\n",
    "\n",
    "train_dir = os.path.join(base_dir, 'train')\n",
    "#os.mkdir(train_dir)\n",
    "validation_dir = os.path.join(base_dir, 'validation')\n",
    "#os.mkdir(validation_dir)\n",
    "test_dir = os.path.join(base_dir, 'test')\n",
    "#os.mkdir(test_dir)\n",
    "train_cats_dir = os.path.join(train_dir, 'cats')\n",
    "#os.mkdir(train_cats_dir)\n",
    "train_dogs_dir = os.path.join(train_dir, 'dogs')\n",
    "#os.mkdir(train_dogs_dir)\n",
    "validation_cats_dir = os.path.join(validation_dir, 'cats')\n",
    "#os.mkdir(validation_cats_dir)\n",
    "validation_dogs_dir = os.path.join(validation_dir, 'dogs')\n",
    "#os.mkdir(validation_dogs_dir)\n",
    "test_cats_dir = os.path.join(test_dir, 'cats')\n",
    "#os.mkdir(test_cats_dir)\n",
    "test_dogs_dir = os.path.join(test_dir, 'dogs')\n",
    "#os.mkdir(test_dogs_dir)\n",
    "'''\n",
    "# training dataset for cats\n",
    "fnames = ['cat.{}.jpg'.format(i) for i in range(1000)]\n",
    "for fname in fnames:\n",
    "    src = os.path.join(original_dataset_dir, fname)\n",
    "    dst = os.path.join(train_cats_dir, fname)\n",
    "    shutil.copyfile(src, dst)\n",
    "\n",
    "#validation dataset for cats\n",
    "fnames = ['cat.{}.jpg'.format(i) for i in range(1000, 1500)]\n",
    "for fname in fnames:\n",
    "    src = os.path.join(original_dataset_dir, fname)\n",
    "    dst = os.path.join(validation_cats_dir, fname)\n",
    "    shutil.copyfile(src, dst)\n",
    "\n",
    "#testing dataset for cats\n",
    "fnames = ['cat.{}.jpg'.format(i) for i in range(1500, 2000)]\n",
    "for fname in fnames:\n",
    "    src = os.path.join(original_dataset_dir, fname)\n",
    "    dst = os.path.join(test_cats_dir, fname)\n",
    "    shutil.copyfile(src, dst)\n",
    "\n",
    "# dogs training \n",
    "fnames = ['dog.{}.jpg'.format(i) for i in range(1000)]\n",
    "for fname in fnames:\n",
    "    src = os.path.join(original_dataset_dir, fname)\n",
    "    dst = os.path.join(train_dogs_dir, fname)\n",
    "    shutil.copyfile(src, dst)\n",
    "    \n",
    "# dogs validation \n",
    "fnames = ['dog.{}.jpg'.format(i) for i in range(1000, 1500)]\n",
    "for fname in fnames:\n",
    "    src = os.path.join(original_dataset_dir, fname)\n",
    "    dst = os.path.join(validation_dogs_dir, fname)\n",
    "    shutil.copyfile(src, dst)\n",
    "    \n",
    "# dogs test \n",
    "fnames = ['dog.{}.jpg'.format(i) for i in range(1500, 2000)]\n",
    "for fname in fnames:\n",
    "    src = os.path.join(original_dataset_dir, fname)\n",
    "    dst = os.path.join(test_dogs_dir, fname)\n",
    "    shutil.copyfile(src, dst)\n",
    "'''\n"
   ]
  },
  {
   "cell_type": "code",
   "execution_count": 2,
   "metadata": {},
   "outputs": [
    {
     "name": "stdout",
     "output_type": "stream",
     "text": [
      "total training cat images: 1000\n",
      "total training dog images: 1000\n",
      "total validation cat images: 500\n",
      "total validation dog images: 500\n",
      "total test cat images: 500\n",
      "total test dog images: 500\n"
     ]
    }
   ],
   "source": [
    "print('total training cat images:', len(os.listdir(train_cats_dir)))\n",
    "print('total training dog images:', len(os.listdir(train_dogs_dir)))\n",
    "print('total validation cat images:', len(os.listdir(validation_cats_dir)))\n",
    "print('total validation dog images:', len(os.listdir(validation_dogs_dir)))\n",
    "print('total test cat images:', len(os.listdir(test_cats_dir)))\n",
    "print('total test dog images:', len(os.listdir(test_dogs_dir)))"
   ]
  },
  {
   "cell_type": "code",
   "execution_count": 3,
   "metadata": {},
   "outputs": [],
   "source": [
    "from tensorflow.keras import layers\n",
    "from tensorflow.keras import models \n",
    "\n",
    "model = models.Sequential()\n",
    "model.add(layers.Conv2D(32, (3, 3), activation='relu', input_shape=(150, 150, 3)))\n",
    "model.add(layers.MaxPooling2D((2, 2)))\n",
    "model.add(layers.Conv2D(64, (3, 3), activation='relu'))\n",
    "model.add(layers.MaxPooling2D((2, 2)))\n",
    "model.add(layers.Conv2D(128, (3, 3), activation='relu'))\n",
    "model.add(layers.MaxPooling2D((2, 2)))\n",
    "model.add(layers.Conv2D(128, (3, 3), activation='relu'))\n",
    "model.add(layers.MaxPooling2D((2, 2)))\n",
    "model.add(layers.Flatten())\n",
    "model.add(layers.Dense(512, activation='relu'))\n",
    "model.add(layers.Dense(1, activation='sigmoid'))"
   ]
  },
  {
   "cell_type": "code",
   "execution_count": 10,
   "metadata": {},
   "outputs": [
    {
     "name": "stdout",
     "output_type": "stream",
     "text": [
      "Model: \"sequential\"\n",
      "_________________________________________________________________\n",
      "Layer (type)                 Output Shape              Param #   \n",
      "=================================================================\n",
      "conv2d (Conv2D)              (None, 148, 148, 32)      896       \n",
      "_________________________________________________________________\n",
      "max_pooling2d (MaxPooling2D) (None, 74, 74, 32)        0         \n",
      "_________________________________________________________________\n",
      "conv2d_1 (Conv2D)            (None, 72, 72, 64)        18496     \n",
      "_________________________________________________________________\n",
      "max_pooling2d_1 (MaxPooling2 (None, 36, 36, 64)        0         \n",
      "_________________________________________________________________\n",
      "conv2d_2 (Conv2D)            (None, 34, 34, 128)       73856     \n",
      "_________________________________________________________________\n",
      "max_pooling2d_2 (MaxPooling2 (None, 17, 17, 128)       0         \n",
      "_________________________________________________________________\n",
      "conv2d_3 (Conv2D)            (None, 15, 15, 128)       147584    \n",
      "_________________________________________________________________\n",
      "max_pooling2d_3 (MaxPooling2 (None, 7, 7, 128)         0         \n",
      "_________________________________________________________________\n",
      "flatten (Flatten)            (None, 6272)              0         \n",
      "_________________________________________________________________\n",
      "dense (Dense)                (None, 512)               3211776   \n",
      "_________________________________________________________________\n",
      "dense_1 (Dense)              (None, 1)                 513       \n",
      "=================================================================\n",
      "Total params: 3,453,121\n",
      "Trainable params: 3,453,121\n",
      "Non-trainable params: 0\n",
      "_________________________________________________________________\n"
     ]
    }
   ],
   "source": [
    "model.summary()"
   ]
  },
  {
   "cell_type": "code",
   "execution_count": 5,
   "metadata": {},
   "outputs": [],
   "source": [
    "#model compilation \n",
    "model.compile(optimizer='rmsprop',\n",
    "            loss='binary_crossentropy',\n",
    "            metrics=['accuracy'])\n"
   ]
  },
  {
   "cell_type": "code",
   "execution_count": 8,
   "metadata": {},
   "outputs": [
    {
     "name": "stdout",
     "output_type": "stream",
     "text": [
      "Found 2000 images belonging to 2 classes.\n",
      "Found 1000 images belonging to 2 classes.\n"
     ]
    }
   ],
   "source": [
    "#data preprocessing \n",
    "from tensorflow.keras.preprocessing.image import ImageDataGenerator \n",
    "\n",
    "train_datagen = ImageDataGenerator(rescale=1./255) #Rescales all images by 1/255\n",
    "test_datagen = ImageDataGenerator(rescale=1./255)\n",
    "\n",
    "train_generator = train_datagen.flow_from_directory(\n",
    "    train_dir, #target directory\n",
    "    target_size = (150,150), # resize all images to 150x150\n",
    "    batch_size=20,\n",
    "    class_mode='binary' # Because you use binary_crossentropy loss, you need binary labels.\n",
    ")\n",
    "\n",
    "validation_generator = test_datagen.flow_from_directory(\n",
    "    validation_dir,\n",
    "    target_size=(150,150),\n",
    "    batch_size=20,\n",
    "    class_mode='binary'\n",
    ")"
   ]
  },
  {
   "cell_type": "code",
   "execution_count": 9,
   "metadata": {},
   "outputs": [
    {
     "name": "stdout",
     "output_type": "stream",
     "text": [
      "data batch shape: (20, 150, 150, 3)\n",
      "labels batch shape: (20,)\n"
     ]
    }
   ],
   "source": [
    "for data_batch, labels_batch in train_generator:\n",
    "    print('data batch shape:', data_batch.shape)\n",
    "    print('labels batch shape:', labels_batch.shape)\n",
    "    break"
   ]
  },
  {
   "cell_type": "code",
   "execution_count": 10,
   "metadata": {},
   "outputs": [
    {
     "name": "stderr",
     "output_type": "stream",
     "text": [
      "/home/shahir/anaconda3/envs/tensorflow/lib/python3.6/site-packages/tensorflow/python/keras/engine/training.py:1844: UserWarning: `Model.fit_generator` is deprecated and will be removed in a future version. Please use `Model.fit`, which supports generators.\n",
      "  warnings.warn('`Model.fit_generator` is deprecated and '\n"
     ]
    },
    {
     "name": "stdout",
     "output_type": "stream",
     "text": [
      "Epoch 1/30\n",
      "100/100 [==============================] - 28s 276ms/step - loss: 0.9363 - accuracy: 0.5035 - val_loss: 0.6894 - val_accuracy: 0.5110\n",
      "Epoch 2/30\n",
      "100/100 [==============================] - 27s 266ms/step - loss: 0.6946 - accuracy: 0.5495 - val_loss: 0.6583 - val_accuracy: 0.6400\n",
      "Epoch 3/30\n",
      "100/100 [==============================] - 29s 295ms/step - loss: 0.6338 - accuracy: 0.6465 - val_loss: 0.6776 - val_accuracy: 0.5790\n",
      "Epoch 4/30\n",
      "100/100 [==============================] - 29s 293ms/step - loss: 0.6053 - accuracy: 0.6815 - val_loss: 0.5848 - val_accuracy: 0.6830\n",
      "Epoch 5/30\n",
      "100/100 [==============================] - 27s 268ms/step - loss: 0.5532 - accuracy: 0.7203 - val_loss: 0.5850 - val_accuracy: 0.6980\n",
      "Epoch 6/30\n",
      "100/100 [==============================] - 27s 271ms/step - loss: 0.4914 - accuracy: 0.7680 - val_loss: 0.5906 - val_accuracy: 0.7070\n",
      "Epoch 7/30\n",
      "100/100 [==============================] - 27s 270ms/step - loss: 0.4202 - accuracy: 0.8108 - val_loss: 0.5550 - val_accuracy: 0.7340\n",
      "Epoch 8/30\n",
      "100/100 [==============================] - 27s 273ms/step - loss: 0.3684 - accuracy: 0.8320 - val_loss: 0.7257 - val_accuracy: 0.7180\n",
      "Epoch 9/30\n",
      "100/100 [==============================] - 27s 274ms/step - loss: 0.3029 - accuracy: 0.8732 - val_loss: 0.7261 - val_accuracy: 0.7390\n",
      "Epoch 10/30\n",
      "100/100 [==============================] - 28s 275ms/step - loss: 0.2579 - accuracy: 0.8927 - val_loss: 0.8526 - val_accuracy: 0.7310\n",
      "Epoch 11/30\n",
      "100/100 [==============================] - 27s 273ms/step - loss: 0.1889 - accuracy: 0.9293 - val_loss: 0.6892 - val_accuracy: 0.7310\n",
      "Epoch 12/30\n",
      "100/100 [==============================] - 28s 276ms/step - loss: 0.1409 - accuracy: 0.9575 - val_loss: 0.9387 - val_accuracy: 0.7420\n",
      "Epoch 13/30\n",
      "100/100 [==============================] - 27s 274ms/step - loss: 0.1165 - accuracy: 0.9627 - val_loss: 1.2811 - val_accuracy: 0.7480\n",
      "Epoch 14/30\n",
      "100/100 [==============================] - 28s 278ms/step - loss: 0.1085 - accuracy: 0.9643 - val_loss: 1.3342 - val_accuracy: 0.7160\n",
      "Epoch 15/30\n",
      "100/100 [==============================] - 28s 280ms/step - loss: 0.0789 - accuracy: 0.9760 - val_loss: 1.4376 - val_accuracy: 0.7230\n",
      "Epoch 16/30\n",
      "100/100 [==============================] - 28s 280ms/step - loss: 0.0582 - accuracy: 0.9809 - val_loss: 1.4882 - val_accuracy: 0.7340\n",
      "Epoch 17/30\n",
      "100/100 [==============================] - 28s 279ms/step - loss: 0.0534 - accuracy: 0.9823 - val_loss: 1.8033 - val_accuracy: 0.7230\n",
      "Epoch 18/30\n",
      "100/100 [==============================] - 30s 297ms/step - loss: 0.1080 - accuracy: 0.9733 - val_loss: 2.0813 - val_accuracy: 0.6680\n",
      "Epoch 19/30\n",
      "100/100 [==============================] - 29s 285ms/step - loss: 0.0616 - accuracy: 0.9828 - val_loss: 1.8782 - val_accuracy: 0.7160\n",
      "Epoch 20/30\n",
      "100/100 [==============================] - 28s 283ms/step - loss: 0.0344 - accuracy: 0.9886 - val_loss: 2.4846 - val_accuracy: 0.7320\n",
      "Epoch 21/30\n",
      "100/100 [==============================] - 31s 307ms/step - loss: 0.0430 - accuracy: 0.9850 - val_loss: 2.6215 - val_accuracy: 0.7180\n",
      "Epoch 22/30\n",
      "100/100 [==============================] - 30s 305ms/step - loss: 0.1091 - accuracy: 0.9802 - val_loss: 2.9403 - val_accuracy: 0.7430\n",
      "Epoch 23/30\n",
      "100/100 [==============================] - 31s 306ms/step - loss: 0.0777 - accuracy: 0.9847 - val_loss: 2.4834 - val_accuracy: 0.7330\n",
      "Epoch 24/30\n",
      "100/100 [==============================] - 28s 284ms/step - loss: 0.0999 - accuracy: 0.9800 - val_loss: 2.7214 - val_accuracy: 0.7410\n",
      "Epoch 25/30\n",
      "100/100 [==============================] - 32s 317ms/step - loss: 0.0444 - accuracy: 0.9886 - val_loss: 2.8718 - val_accuracy: 0.7240\n",
      "Epoch 26/30\n",
      "100/100 [==============================] - 32s 318ms/step - loss: 0.0425 - accuracy: 0.9815 - val_loss: 6.1017 - val_accuracy: 0.6680\n",
      "Epoch 27/30\n",
      "100/100 [==============================] - 31s 312ms/step - loss: 0.1392 - accuracy: 0.9746 - val_loss: 2.9123 - val_accuracy: 0.7240\n",
      "Epoch 28/30\n",
      "100/100 [==============================] - 32s 323ms/step - loss: 0.0301 - accuracy: 0.9898 - val_loss: 3.7186 - val_accuracy: 0.7340\n",
      "Epoch 29/30\n",
      "100/100 [==============================] - 31s 305ms/step - loss: 0.0662 - accuracy: 0.9944 - val_loss: 3.9815 - val_accuracy: 0.7260\n",
      "Epoch 30/30\n",
      "100/100 [==============================] - 30s 303ms/step - loss: 0.0521 - accuracy: 0.9883 - val_loss: 4.8644 - val_accuracy: 0.7130\n"
     ]
    }
   ],
   "source": [
    "'''\n",
    "When using fit_generator , you can pass a validation_data argument, much as\n",
    "with the fit method. It’s important to note that this argument is allowed to be a data\n",
    "generator, but it could also be a tuple of Numpy arrays. If you pass a generator as\n",
    "validation_data , then this generator is expected to yield batches of validation data\n",
    "endlessly; thus you should also specify the validation_steps argument, which tells\n",
    "the process how many batches to draw from the validation generator for evaluation.\n",
    "'''\n",
    "#fitting the model using batch generator \n",
    "history = model.fit_generator(\n",
    "    train_generator,\n",
    "    steps_per_epoch=100,\n",
    "    epochs=30,\n",
    "    validation_data=validation_generator,\n",
    "    validation_steps=50\n",
    ")"
   ]
  },
  {
   "cell_type": "code",
   "execution_count": 11,
   "metadata": {},
   "outputs": [],
   "source": [
    "#saving the model \n",
    "model.save('cats_and_dogs_small_1.h5')"
   ]
  },
  {
   "cell_type": "code",
   "execution_count": 15,
   "metadata": {},
   "outputs": [
    {
     "data": {
      "image/png": "[encoded data removed]",
      "text/plain": [
       "<Figure size 432x288 with 1 Axes>"
      ]
     },
     "metadata": {
      "needs_background": "light"
     },
     "output_type": "display_data"
    },
    {
     "data": {
      "image/png": "[encoded data removed]",
      "text/plain": [
       "<Figure size 432x288 with 1 Axes>"
      ]
     },
     "metadata": {
      "needs_background": "light"
     },
     "output_type": "display_data"
    }
   ],
   "source": [
    "#Plotting the loss and accuracy during training \n",
    "import matplotlib.pyplot as plt\n",
    "acc = history.history['accuracy']\n",
    "val_acc = history.history['val_accuracy']\n",
    "loss = history.history['loss']\n",
    "val_loss = history.history['val_loss']\n",
    "epochs = range(1, len(acc) + 1)\n",
    "plt.plot(epochs, acc, 'bo', label='Training acc')\n",
    "plt.plot(epochs, val_acc, 'b', label='Validation acc')\n",
    "plt.title('Training and validation accuracy')\n",
    "plt.legend()\n",
    "plt.figure()\n",
    "plt.plot(epochs, loss, 'bo', label='Training loss')\n",
    "plt.plot(epochs, val_loss, 'b', label='Validation loss')\n",
    "plt.title('Training and validation loss')\n",
    "plt.legend()\n",
    "plt.show()"
   ]
  },
  {
   "cell_type": "code",
   "execution_count": null,
   "metadata": {},
   "outputs": [],
   "source": []
  }
 ],
 "metadata": {
  "kernelspec": {
   "display_name": "Python 3",
   "language": "python",
   "name": "python3"
  },
  "language_info": {
   "codemirror_mode": {
    "name": "ipython",
    "version": 3
   },
   "file_extension": ".py",
   "mimetype": "text/x-python",
   "name": "python",
   "nbconvert_exporter": "python",
   "pygments_lexer": "ipython3",
   "version": "3.6.10"
  }
 },
 "nbformat": 4,
 "nbformat_minor": 4
}
